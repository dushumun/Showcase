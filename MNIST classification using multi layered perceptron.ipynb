{
 "cells": [
  {
   "cell_type": "markdown",
   "metadata": {},
   "source": [
    "Implementation of a simple MLP for the MNIST digit classification problem\n"
   ]
  },
  {
   "cell_type": "markdown",
   "metadata": {},
   "source": [
    "Libraries used:"
   ]
  },
  {
   "cell_type": "code",
   "execution_count": 1,
   "metadata": {},
   "outputs": [
    {
     "name": "stderr",
     "output_type": "stream",
     "text": [
      "C:\\Users\\DUSHUMUN\\Anaconda3\\lib\\site-packages\\h5py\\__init__.py:34: FutureWarning: Conversion of the second argument of issubdtype from `float` to `np.floating` is deprecated. In future, it will be treated as `np.float64 == np.dtype(float).type`.\n",
      "  from ._conv import register_converters as _register_converters\n",
      "Using TensorFlow backend.\n"
     ]
    }
   ],
   "source": [
    "import keras\n",
    "from keras.datasets import mnist\n",
    "from keras.models import Sequential\n",
    "from keras.layers import Dense, Dropout\n",
    "from keras.optimizers import SGD\n",
    "import matplotlib.pyplot as plt\n",
    "import numpy as np\n",
    "from sklearn.metrics import classification_report, confusion_matrix"
   ]
  },
  {
   "cell_type": "markdown",
   "metadata": {},
   "source": [
    "Importing the Data and splitting into train and test (data set comes with predetermined train test ratio 60,000/10,000)"
   ]
  },
  {
   "cell_type": "code",
   "execution_count": 2,
   "metadata": {
    "collapsed": true
   },
   "outputs": [],
   "source": [
    "(X_train, Y_train), (X_test, Y_test) = mnist.load_data()"
   ]
  },
  {
   "cell_type": "markdown",
   "metadata": {},
   "source": [
    "feature values split for each sample, 60k training and 10k testing samples in total, each containing 784 features (one feature for each pixel in the 28x28 image. Pixel intensity values have also been normalised (range of 0-255 rescaled between 0 and 1.)"
   ]
  },
  {
   "cell_type": "code",
   "execution_count": 3,
   "metadata": {
    "collapsed": true
   },
   "outputs": [],
   "source": [
    "x_train = X_train.reshape(60000, 784)\n",
    "x_test = X_test.reshape(10000, 784)\n",
    "x_train = x_train.astype('float32')\n",
    "x_test = x_test.astype('float32')\n",
    "x_train /= 255\n",
    "x_test /= 255\n",
    "\n",
    "num_classes = 10"
   ]
  },
  {
   "cell_type": "markdown",
   "metadata": {},
   "source": [
    "Y values stating the sample class is translated into a binary class matrices, allowing for framing of classification problem"
   ]
  },
  {
   "cell_type": "code",
   "execution_count": 4,
   "metadata": {},
   "outputs": [],
   "source": [
    "y_train = keras.utils.to_categorical(Y_train, num_classes)\n",
    "y_test = keras.utils.to_categorical(Y_test, num_classes)"
   ]
  },
  {
   "cell_type": "markdown",
   "metadata": {},
   "source": [
    "Next the network architecture is defined, consisting of two hidden layers and a softmax output layer. Dropout regularsation has been moderately applied after each fully connected layer in order to prevent overfitting through training."
   ]
  },
  {
   "cell_type": "code",
   "execution_count": 5,
   "metadata": {},
   "outputs": [],
   "source": [
    "opt = SGD(lr = 0.001, momentum = 0.9)\n",
    "\n",
    "model = Sequential()\n",
    "model.add(Dense(512, activation='relu', input_shape=(784,))) #fully connected layer\n",
    "model.add(Dropout(0.2))       \n",
    "model.add(Dense(512, activation='relu'))\n",
    "model.add(Dropout(0.2))\n",
    "model.add(Dense(num_classes, activation='softmax')) #output classification layer\n",
    "\n",
    "model.compile(loss = 'categorical_crossentropy',\n",
    "             optimizer = opt,\n",
    "             metrics = ['accuracy', 'top_k_categorical_accuracy'])\n"
   ]
  },
  {
   "cell_type": "markdown",
   "metadata": {},
   "source": [
    "now the model has been defined, training can begin. Training will consist of 10 epochs, using a batch size of 32 images"
   ]
  },
  {
   "cell_type": "code",
   "execution_count": 6,
   "metadata": {
    "collapsed": true
   },
   "outputs": [],
   "source": [
    "batch_size = 32\n",
    "epochs = 10\n"
   ]
  },
  {
   "cell_type": "code",
   "execution_count": 7,
   "metadata": {},
   "outputs": [
    {
     "name": "stdout",
     "output_type": "stream",
     "text": [
      "Train on 60000 samples, validate on 10000 samples\n",
      "Epoch 1/10\n",
      "60000/60000 [==============================] - 19s 312us/step - loss: 0.6644 - acc: 0.8172 - top_k_categorical_accuracy: 0.9731 - val_loss: 0.2981 - val_acc: 0.9163 - val_top_k_categorical_accuracy: 0.9945\n",
      "Epoch 2/10\n",
      "60000/60000 [==============================] - 18s 307us/step - loss: 0.3144 - acc: 0.9085 - top_k_categorical_accuracy: 0.9948 - val_loss: 0.2386 - val_acc: 0.9316 - val_top_k_categorical_accuracy: 0.9959\n",
      "Epoch 3/10\n",
      "60000/60000 [==============================] - 18s 308us/step - loss: 0.2547 - acc: 0.9255 - top_k_categorical_accuracy: 0.9964 - val_loss: 0.1943 - val_acc: 0.9445 - val_top_k_categorical_accuracy: 0.9968\n",
      "Epoch 4/10\n",
      "60000/60000 [==============================] - 18s 308us/step - loss: 0.2141 - acc: 0.9387 - top_k_categorical_accuracy: 0.9971 - val_loss: 0.1660 - val_acc: 0.9505 - val_top_k_categorical_accuracy: 0.9978\n",
      "Epoch 5/10\n",
      "60000/60000 [==============================] - 19s 309us/step - loss: 0.1869 - acc: 0.9454 - top_k_categorical_accuracy: 0.9980 - val_loss: 0.1493 - val_acc: 0.9556 - val_top_k_categorical_accuracy: 0.9982\n",
      "Epoch 6/10\n",
      "60000/60000 [==============================] - 19s 310us/step - loss: 0.1668 - acc: 0.9517 - top_k_categorical_accuracy: 0.9983 - val_loss: 0.1326 - val_acc: 0.9608 - val_top_k_categorical_accuracy: 0.9988\n",
      "Epoch 7/10\n",
      "60000/60000 [==============================] - 19s 314us/step - loss: 0.1497 - acc: 0.9566 - top_k_categorical_accuracy: 0.9985 - val_loss: 0.1228 - val_acc: 0.9628 - val_top_k_categorical_accuracy: 0.9992\n",
      "Epoch 8/10\n",
      "60000/60000 [==============================] - 19s 311us/step - loss: 0.1362 - acc: 0.9607 - top_k_categorical_accuracy: 0.9988 - val_loss: 0.1123 - val_acc: 0.9666 - val_top_k_categorical_accuracy: 0.9991\n",
      "Epoch 9/10\n",
      "60000/60000 [==============================] - 19s 310us/step - loss: 0.1262 - acc: 0.9633 - top_k_categorical_accuracy: 0.9991 - val_loss: 0.1049 - val_acc: 0.9682 - val_top_k_categorical_accuracy: 0.9992\n",
      "Epoch 10/10\n",
      "60000/60000 [==============================] - 19s 314us/step - loss: 0.1178 - acc: 0.9654 - top_k_categorical_accuracy: 0.9992 - val_loss: 0.0981 - val_acc: 0.9702 - val_top_k_categorical_accuracy: 0.9992\n"
     ]
    }
   ],
   "source": [
    "history = model.fit(x_train, y_train,\n",
    "                    batch_size=batch_size,\n",
    "                    epochs=epochs,\n",
    "                    verbose=1,\n",
    "                    validation_data=(x_test, y_test))"
   ]
  },
  {
   "cell_type": "code",
   "execution_count": 8,
   "metadata": {},
   "outputs": [
    {
     "data": {
      "image/png": "[encoded data removed]",
      "text/plain": [
       "<matplotlib.figure.Figure at 0x1436cdd8>"
      ]
     },
     "metadata": {},
     "output_type": "display_data"
    },
    {
     "name": "stdout",
     "output_type": "stream",
     "text": [
      "Test accuracy\n",
      "0.9702\n"
     ]
    }
   ],
   "source": [
    "plt.ylim(0,1)\n",
    "plt.plot(history.history['acc'])  \n",
    "plt.plot(history.history['val_acc'])\n",
    "plt.title('model accuracy')\n",
    "plt.ylabel('accuracy')\n",
    "plt.xlabel('epoch')\n",
    "plt.legend(['train', 'validation'], loc='upper left')\n",
    "plt.show()\n",
    "\n",
    "score = model.evaluate(x_test, y_test, verbose = 0)\n",
    "print('Test accuracy')\n",
    "print(score[1])"
   ]
  },
  {
   "cell_type": "markdown",
   "metadata": {},
   "source": [
    "With just 10 epochs with a simple MLP, high levels of classification accuracy have been achieved (97.05%)"
   ]
  },
  {
   "cell_type": "markdown",
   "metadata": {},
   "source": [
    "Analysis of model"
   ]
  },
  {
   "cell_type": "code",
   "execution_count": 9,
   "metadata": {},
   "outputs": [],
   "source": [
    "y_test_softmax = model.predict(x_test)\n",
    "Y_test_pred = np.argmax(y_test_softmax, axis = 1)"
   ]
  },
  {
   "cell_type": "code",
   "execution_count": 10,
   "metadata": {},
   "outputs": [
    {
     "name": "stdout",
     "output_type": "stream",
     "text": [
      "Confusion Matrix\n",
      "[[ 967    0    1    1    0    4    4    1    2    0]\n",
      " [   0 1122    3    2    0    1    4    0    3    0]\n",
      " [   7    2  996    6    4    1    2    6    7    1]\n",
      " [   0    0    4  986    0    6    0    7    4    3]\n",
      " [   1    0    4    0  956    0    4    1    2   14]\n",
      " [   4    0    0   10    2  860    9    1    4    2]\n",
      " [   6    3    0    0    7    9  930    1    2    0]\n",
      " [   1   10   11    4    2    0    0  987    0   13]\n",
      " [   4    2    2    9    4    7    5    4  934    3]\n",
      " [   4    7    1   10   12    3    1    6    1  964]]\n"
     ]
    }
   ],
   "source": [
    "labels = [0,1,2,3,4,5,6,7,8,9]\n",
    "\n",
    "print(\"Confusion Matrix\")\n",
    "print(confusion_matrix(Y_test, Y_test_pred, labels = labels))"
   ]
  },
  {
   "cell_type": "code",
   "execution_count": 11,
   "metadata": {},
   "outputs": [
    {
     "name": "stdout",
     "output_type": "stream",
     "text": [
      "             precision    recall  f1-score   support\n",
      "\n",
      "          0       0.97      0.99      0.98       980\n",
      "          1       0.98      0.99      0.98      1135\n",
      "          2       0.97      0.97      0.97      1032\n",
      "          3       0.96      0.98      0.97      1010\n",
      "          4       0.97      0.97      0.97       982\n",
      "          5       0.97      0.96      0.96       892\n",
      "          6       0.97      0.97      0.97       958\n",
      "          7       0.97      0.96      0.97      1028\n",
      "          8       0.97      0.96      0.97       974\n",
      "          9       0.96      0.96      0.96      1009\n",
      "\n",
      "avg / total       0.97      0.97      0.97     10000\n",
      "\n"
     ]
    }
   ],
   "source": [
    "target_names = ['0','1','2', '3', '4', '5', '6' ,'7' ,'8' ,'9']\n",
    "print(classification_report(Y_test, Y_test_pred, target_names = target_names))"
   ]
  },
  {
   "cell_type": "code",
   "execution_count": null,
   "metadata": {
    "collapsed": true
   },
   "outputs": [],
   "source": []
  }
 ],
 "metadata": {
  "kernelspec": {
   "display_name": "Python 3",
   "language": "python",
   "name": "python3"
  },
  "language_info": {
   "codemirror_mode": {
    "name": "ipython",
    "version": 3
   },
   "file_extension": ".py",
   "mimetype": "text/x-python",
   "name": "python",
   "nbconvert_exporter": "python",
   "pygments_lexer": "ipython3",
   "version": "3.6.3"
  }
 },
 "nbformat": 4,
 "nbformat_minor": 2
}
