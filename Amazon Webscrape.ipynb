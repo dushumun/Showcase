{
 "cells": [
  {
   "cell_type": "markdown",
   "metadata": {},
   "source": [
    "Simple Webscrape of 10 most recent amazon reviews to panda dataframe"
   ]
  },
  {
   "cell_type": "code",
   "execution_count": 2,
   "metadata": {
    "collapsed": true
   },
   "outputs": [],
   "source": [
    "from bs4 import BeautifulSoup #used to format raw html page and extract object values\n",
    "from requests import get # returns \n",
    "from requests.exceptions import RequestException\n",
    "from contextlib import closing\n",
    "from bs4 import BeautifulSoup\n",
    "from lxml import html  \n",
    "import requests\n",
    "import pandas as pd\n"
   ]
  },
  {
   "cell_type": "code",
   "execution_count": null,
   "metadata": {
    "collapsed": true
   },
   "outputs": [],
   "source": [
    "Setting up the html request to the website "
   ]
  },
  {
   "cell_type": "code",
   "execution_count": 3,
   "metadata": {
    "collapsed": true
   },
   "outputs": [],
   "source": [
    "amazon_url = 'https://www.amazon.com/product-reviews/B01DFKC2SO?pageNumber=1&sortBy=recent'\n",
    "\n",
    "user_agent = 'Mozilla/5.0 (Macintosh; Intel Mac OS X 10_12_6) AppleWebKit/537.36 (KHTML, like Gecko) Chrome/62.0.3202.94 Safari/537.36'\n",
    "\n",
    "headers = {'User-Agent': user_agent}\n",
    "page = requests.get(amazon_url, headers = headers)\n",
    "parser = html.fromstring(page.content)"
   ]
  },
  {
   "cell_type": "markdown",
   "metadata": {},
   "source": [
    "Checking the response of the request (html status 200 tells us it has responded correctly)"
   ]
  },
  {
   "cell_type": "code",
   "execution_count": 4,
   "metadata": {},
   "outputs": [
    {
     "name": "stdout",
     "output_type": "stream",
     "text": [
      "<Response [200]>\n"
     ]
    }
   ],
   "source": [
    "print(page)"
   ]
  },
  {
   "cell_type": "markdown",
   "metadata": {},
   "source": [
    "Reviews Element, containing the reviews on the page, found via inspection of the page"
   ]
  },
  {
   "cell_type": "code",
   "execution_count": 5,
   "metadata": {
    "collapsed": true
   },
   "outputs": [],
   "source": [
    "xpath_reviews = '//div[@data-hook=\"review\"]'\n",
    "reviews = parser.xpath(xpath_reviews)"
   ]
  },
  {
   "cell_type": "markdown",
   "metadata": {},
   "source": [
    "Elements of the review found via inspection on the amazon review website"
   ]
  },
  {
   "cell_type": "code",
   "execution_count": 7,
   "metadata": {
    "collapsed": true
   },
   "outputs": [],
   "source": [
    "xpath_rating  = './/i[@data-hook=\"review-star-rating\"]//text()' \n",
    "xpath_title   = './/a[@data-hook=\"review-title\"]//text()'\n",
    "xpath_author  = './/a[@data-hook=\"review-author\"]//text()'\n",
    "xpath_date    = './/span[@data-hook=\"review-date\"]//text()'\n",
    "xpath_body    = './/span[@data-hook=\"review-body\"]//text()'\n",
    "xpath_helpful = './/span[@data-hook=\"helpful-vote-statement\"]//text()'"
   ]
  },
  {
   "cell_type": "markdown",
   "metadata": {},
   "source": [
    "Creating a pandas dataframe to collect the reviews"
   ]
  },
  {
   "cell_type": "code",
   "execution_count": 8,
   "metadata": {},
   "outputs": [],
   "source": [
    "reviews_df = pd.DataFrame(columns = ['rating', 'title', 'author', 'date', 'body', 'helpful'])"
   ]
  },
  {
   "cell_type": "markdown",
   "metadata": {},
   "source": [
    "Appending the reviews elements into the pandas dataframe"
   ]
  },
  {
   "cell_type": "code",
   "execution_count": 9,
   "metadata": {},
   "outputs": [],
   "source": [
    "for review in reviews:\n",
    "    rating  = review.xpath(xpath_rating)\n",
    "    title   = review.xpath(xpath_title)\n",
    "    author  = review.xpath(xpath_author)\n",
    "    date    = review.xpath(xpath_date)\n",
    "    body    = review.xpath(xpath_body)\n",
    "    helpful = review.xpath(xpath_helpful)\n",
    "\n",
    "    review_dict = {'rating': rating,\n",
    "                   'title': title,\n",
    "                   'author': author,             \n",
    "                   'date': date,\n",
    "                   'body': body,\n",
    "                   'helpful': helpful}\n",
    "    reviews_df = reviews_df.append(review_dict, ignore_index=True)"
   ]
  },
  {
   "cell_type": "code",
   "execution_count": null,
   "metadata": {
    "collapsed": true
   },
   "outputs": [],
   "source": [
    "Dataframe head"
   ]
  },
  {
   "cell_type": "code",
   "execution_count": 10,
   "metadata": {},
   "outputs": [
    {
     "data": {
      "text/html": [
       "<div>\n",
       "<style scoped>\n",
       "    .dataframe tbody tr th:only-of-type {\n",
       "        vertical-align: middle;\n",
       "    }\n",
       "\n",
       "    .dataframe tbody tr th {\n",
       "        vertical-align: top;\n",
       "    }\n",
       "\n",
       "    .dataframe thead th {\n",
       "        text-align: right;\n",
       "    }\n",
       "</style>\n",
       "<table border=\"1\" class=\"dataframe\">\n",
       "  <thead>\n",
       "    <tr style=\"text-align: right;\">\n",
       "      <th></th>\n",
       "      <th>rating</th>\n",
       "      <th>title</th>\n",
       "      <th>author</th>\n",
       "      <th>date</th>\n",
       "      <th>body</th>\n",
       "      <th>helpful</th>\n",
       "    </tr>\n",
       "  </thead>\n",
       "  <tbody>\n",
       "    <tr>\n",
       "      <th>0</th>\n",
       "      <td>[4.0 out of 5 stars]</td>\n",
       "      <td>[The speaker quality is almost too low quality...</td>\n",
       "      <td>[]</td>\n",
       "      <td>[November 27, 2018]</td>\n",
       "      <td>[The speaker quality is almost too low quality...</td>\n",
       "      <td>[]</td>\n",
       "    </tr>\n",
       "    <tr>\n",
       "      <th>1</th>\n",
       "      <td>[5.0 out of 5 stars]</td>\n",
       "      <td>[Great sounds quality...]</td>\n",
       "      <td>[]</td>\n",
       "      <td>[November 27, 2018]</td>\n",
       "      <td>[...compared to the first generation Echo Dot....</td>\n",
       "      <td>[]</td>\n",
       "    </tr>\n",
       "    <tr>\n",
       "      <th>2</th>\n",
       "      <td>[1.0 out of 5 stars]</td>\n",
       "      <td>[won't activate on new email???]</td>\n",
       "      <td>[]</td>\n",
       "      <td>[November 27, 2018]</td>\n",
       "      <td>[Do to internet problems we needed to switch c...</td>\n",
       "      <td>[]</td>\n",
       "    </tr>\n",
       "    <tr>\n",
       "      <th>3</th>\n",
       "      <td>[3.0 out of 5 stars]</td>\n",
       "      <td>[Speaker terrible]</td>\n",
       "      <td>[]</td>\n",
       "      <td>[November 27, 2018]</td>\n",
       "      <td>[Speaker for music poor]</td>\n",
       "      <td>[]</td>\n",
       "    </tr>\n",
       "    <tr>\n",
       "      <th>4</th>\n",
       "      <td>[5.0 out of 5 stars]</td>\n",
       "      <td>[Works well]</td>\n",
       "      <td>[]</td>\n",
       "      <td>[November 27, 2018]</td>\n",
       "      <td>[Works well]</td>\n",
       "      <td>[]</td>\n",
       "    </tr>\n",
       "  </tbody>\n",
       "</table>\n",
       "</div>"
      ],
      "text/plain": [
       "                 rating                                              title  \\\n",
       "0  [4.0 out of 5 stars]  [The speaker quality is almost too low quality...   \n",
       "1  [5.0 out of 5 stars]                          [Great sounds quality...]   \n",
       "2  [1.0 out of 5 stars]                   [won't activate on new email???]   \n",
       "3  [3.0 out of 5 stars]                                 [Speaker terrible]   \n",
       "4  [5.0 out of 5 stars]                                       [Works well]   \n",
       "\n",
       "  author                 date  \\\n",
       "0     []  [November 27, 2018]   \n",
       "1     []  [November 27, 2018]   \n",
       "2     []  [November 27, 2018]   \n",
       "3     []  [November 27, 2018]   \n",
       "4     []  [November 27, 2018]   \n",
       "\n",
       "                                                body helpful  \n",
       "0  [The speaker quality is almost too low quality...      []  \n",
       "1  [...compared to the first generation Echo Dot....      []  \n",
       "2  [Do to internet problems we needed to switch c...      []  \n",
       "3                           [Speaker for music poor]      []  \n",
       "4                                       [Works well]      []  "
      ]
     },
     "execution_count": 10,
     "metadata": {},
     "output_type": "execute_result"
    }
   ],
   "source": [
    "reviews_df.head()"
   ]
  },
  {
   "cell_type": "code",
   "execution_count": 11,
   "metadata": {},
   "outputs": [
    {
     "data": {
      "text/plain": [
       "(10, 6)"
      ]
     },
     "execution_count": 11,
     "metadata": {},
     "output_type": "execute_result"
    }
   ],
   "source": [
    "reviews_df.shape"
   ]
  },
  {
   "cell_type": "code",
   "execution_count": null,
   "metadata": {
    "collapsed": true
   },
   "outputs": [],
   "source": []
  }
 ],
 "metadata": {
  "kernelspec": {
   "display_name": "Python 3",
   "language": "python",
   "name": "python3"
  },
  "language_info": {
   "codemirror_mode": {
    "name": "ipython",
    "version": 3
   },
   "file_extension": ".py",
   "mimetype": "text/x-python",
   "name": "python",
   "nbconvert_exporter": "python",
   "pygments_lexer": "ipython3",
   "version": "3.6.3"
  }
 },
 "nbformat": 4,
 "nbformat_minor": 2
}
