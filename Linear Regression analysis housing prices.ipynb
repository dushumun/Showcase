{
 "cells": [
  {
   "cell_type": "markdown",
   "metadata": {},
   "source": [
    "Visualisation of house pricing and implementation of linear regression to predict property price"
   ]
  },
  {
   "cell_type": "markdown",
   "metadata": {},
   "source": [
    "https://www.kaggle.com/riteshdash/linear-regression-numpy-pandas-sklearn-matplotlib"
   ]
  },
  {
   "cell_type": "code",
   "execution_count": 1,
   "metadata": {
    "collapsed": true
   },
   "outputs": [],
   "source": [
    "# Used for importing and storing the dataset\n",
    "import pandas as pd\n"
   ]
  },
  {
   "cell_type": "markdown",
   "metadata": {},
   "source": [
    "Initially the CSV file containing the housing data has been imported, with the first 5 rows displayed"
   ]
  },
  {
   "cell_type": "code",
   "execution_count": 2,
   "metadata": {
    "collapsed": true
   },
   "outputs": [],
   "source": [
    "df = pd.read_csv(\"G:\\My Projects\\housing data\\kc_house_data.csv\")"
   ]
  },
  {
   "cell_type": "code",
   "execution_count": 3,
   "metadata": {},
   "outputs": [
    {
     "name": "stdout",
     "output_type": "stream",
     "text": [
      "           id             date     price  bedrooms  bathrooms  sqft_living  \\\n",
      "0  7129300520  20141013T000000  221900.0         3       1.00         1180   \n",
      "1  6414100192  20141209T000000  538000.0         3       2.25         2570   \n",
      "2  5631500400  20150225T000000  180000.0         2       1.00          770   \n",
      "3  2487200875  20141209T000000  604000.0         4       3.00         1960   \n",
      "4  1954400510  20150218T000000  510000.0         3       2.00         1680   \n",
      "\n",
      "   sqft_lot  floors  waterfront  view     ...      grade  sqft_above  \\\n",
      "0      5650     1.0           0     0     ...          7        1180   \n",
      "1      7242     2.0           0     0     ...          7        2170   \n",
      "2     10000     1.0           0     0     ...          6         770   \n",
      "3      5000     1.0           0     0     ...          7        1050   \n",
      "4      8080     1.0           0     0     ...          8        1680   \n",
      "\n",
      "   sqft_basement  yr_built  yr_renovated  zipcode      lat     long  \\\n",
      "0              0      1955             0    98178  47.5112 -122.257   \n",
      "1            400      1951          1991    98125  47.7210 -122.319   \n",
      "2              0      1933             0    98028  47.7379 -122.233   \n",
      "3            910      1965             0    98136  47.5208 -122.393   \n",
      "4              0      1987             0    98074  47.6168 -122.045   \n",
      "\n",
      "   sqft_living15  sqft_lot15  \n",
      "0           1340        5650  \n",
      "1           1690        7639  \n",
      "2           2720        8062  \n",
      "3           1360        5000  \n",
      "4           1800        7503  \n",
      "\n",
      "[5 rows x 21 columns]\n"
     ]
    }
   ],
   "source": [
    "print(df.head(5))"
   ]
  },
  {
   "cell_type": "markdown",
   "metadata": {},
   "source": [
    "20 different variables contained in the data set + index"
   ]
  },
  {
   "cell_type": "markdown",
   "metadata": {},
   "source": [
    "The Date column seems to have a strange format, whereby each date is suffixed with T000000, this formatting will need to be modified."
   ]
  },
  {
   "cell_type": "code",
   "execution_count": 5,
   "metadata": {
    "collapsed": true
   },
   "outputs": [],
   "source": [
    "df['date'] = df['date'].map(lambda x: x.rstrip('T000000'))"
   ]
  },
  {
   "cell_type": "code",
   "execution_count": 6,
   "metadata": {},
   "outputs": [
    {
     "name": "stdout",
     "output_type": "stream",
     "text": [
      "           id      date     price  bedrooms  bathrooms  sqft_living  sqft_lot  \\\n",
      "0  7129300520  20141013  221900.0         3       1.00         1180      5650   \n",
      "1  6414100192  20141209  538000.0         3       2.25         2570      7242   \n",
      "2  5631500400  20150225  180000.0         2       1.00          770     10000   \n",
      "3  2487200875  20141209  604000.0         4       3.00         1960      5000   \n",
      "4  1954400510  20150218  510000.0         3       2.00         1680      8080   \n",
      "\n",
      "   floors  waterfront  view     ...      grade  sqft_above  sqft_basement  \\\n",
      "0     1.0           0     0     ...          7        1180              0   \n",
      "1     2.0           0     0     ...          7        2170            400   \n",
      "2     1.0           0     0     ...          6         770              0   \n",
      "3     1.0           0     0     ...          7        1050            910   \n",
      "4     1.0           0     0     ...          8        1680              0   \n",
      "\n",
      "   yr_built  yr_renovated  zipcode      lat     long  sqft_living15  \\\n",
      "0      1955             0    98178  47.5112 -122.257           1340   \n",
      "1      1951          1991    98125  47.7210 -122.319           1690   \n",
      "2      1933             0    98028  47.7379 -122.233           2720   \n",
      "3      1965             0    98136  47.5208 -122.393           1360   \n",
      "4      1987             0    98074  47.6168 -122.045           1800   \n",
      "\n",
      "   sqft_lot15  \n",
      "0        5650  \n",
      "1        7639  \n",
      "2        8062  \n",
      "3        5000  \n",
      "4        7503  \n",
      "\n",
      "[5 rows x 21 columns]\n"
     ]
    }
   ],
   "source": [
    "print(df.head())"
   ]
  },
  {
   "cell_type": "code",
   "execution_count": 7,
   "metadata": {},
   "outputs": [
    {
     "name": "stdout",
     "output_type": "stream",
     "text": [
      "id               0\n",
      "date             0\n",
      "price            0\n",
      "bedrooms         0\n",
      "bathrooms        0\n",
      "sqft_living      0\n",
      "sqft_lot         0\n",
      "floors           0\n",
      "waterfront       0\n",
      "view             0\n",
      "condition        0\n",
      "grade            0\n",
      "sqft_above       0\n",
      "sqft_basement    0\n",
      "yr_built         0\n",
      "yr_renovated     0\n",
      "zipcode          0\n",
      "lat              0\n",
      "long             0\n",
      "sqft_living15    0\n",
      "sqft_lot15       0\n",
      "dtype: int64\n"
     ]
    }
   ],
   "source": [
    "print(df.isnull().sum())"
   ]
  },
  {
   "cell_type": "markdown",
   "metadata": {},
   "source": [
    "no null values contained within the data set, no need for filling null values or removing samples with inadequate features"
   ]
  },
  {
   "cell_type": "code",
   "execution_count": 8,
   "metadata": {},
   "outputs": [
    {
     "name": "stdout",
     "output_type": "stream",
     "text": [
      "most recent date\n",
      "20150527\n",
      "least recent date\n",
      "20140502\n"
     ]
    }
   ],
   "source": [
    "print(\"most recent date\")\n",
    "print(df['date'].max())\n",
    "print(\"least recent date\")\n",
    "print(df['date'].min())"
   ]
  },
  {
   "cell_type": "markdown",
   "metadata": {},
   "source": [
    "dates span just over one year, unlikely that larger differences in price are down to the date. Column will be disregarded for further analysis"
   ]
  },
  {
   "cell_type": "code",
   "execution_count": 9,
   "metadata": {},
   "outputs": [
    {
     "name": "stdout",
     "output_type": "stream",
     "text": [
      "id                 int64\n",
      "date              object\n",
      "price            float64\n",
      "bedrooms           int64\n",
      "bathrooms        float64\n",
      "sqft_living        int64\n",
      "sqft_lot           int64\n",
      "floors           float64\n",
      "waterfront         int64\n",
      "view               int64\n",
      "condition          int64\n",
      "grade              int64\n",
      "sqft_above         int64\n",
      "sqft_basement      int64\n",
      "yr_built           int64\n",
      "yr_renovated       int64\n",
      "zipcode            int64\n",
      "lat              float64\n",
      "long             float64\n",
      "sqft_living15      int64\n",
      "sqft_lot15         int64\n",
      "dtype: object\n"
     ]
    }
   ],
   "source": [
    "print(df.dtypes)"
   ]
  },
  {
   "cell_type": "markdown",
   "metadata": {},
   "source": [
    "All integer data types must be converted into a float data type for feature normalisation later"
   ]
  },
  {
   "cell_type": "code",
   "execution_count": 10,
   "metadata": {
    "collapsed": true
   },
   "outputs": [],
   "source": [
    "df = df.astype('float64')"
   ]
  },
  {
   "cell_type": "code",
   "execution_count": 11,
   "metadata": {},
   "outputs": [
    {
     "name": "stdout",
     "output_type": "stream",
     "text": [
      "id               float64\n",
      "date             float64\n",
      "price            float64\n",
      "bedrooms         float64\n",
      "bathrooms        float64\n",
      "sqft_living      float64\n",
      "sqft_lot         float64\n",
      "floors           float64\n",
      "waterfront       float64\n",
      "view             float64\n",
      "condition        float64\n",
      "grade            float64\n",
      "sqft_above       float64\n",
      "sqft_basement    float64\n",
      "yr_built         float64\n",
      "yr_renovated     float64\n",
      "zipcode          float64\n",
      "lat              float64\n",
      "long             float64\n",
      "sqft_living15    float64\n",
      "sqft_lot15       float64\n",
      "dtype: object\n"
     ]
    }
   ],
   "source": [
    "print(df.dtypes)"
   ]
  },
  {
   "cell_type": "markdown",
   "metadata": {},
   "source": [
    "Initial regression model has been built based soley on the feature of Square Foot Living space"
   ]
  },
  {
   "cell_type": "markdown",
   "metadata": {},
   "source": [
    "Dataframe including the target and feature is created and split into a training and test split"
   ]
  },
  {
   "cell_type": "code",
   "execution_count": 12,
   "metadata": {
    "collapsed": true
   },
   "outputs": [],
   "source": [
    "from sklearn.model_selection import train_test_split\n",
    "from sklearn.linear_model import LinearRegression\n",
    "import math\n",
    "\n",
    "sqft_livingDF = df[['price', 'sqft_living']]\n",
    "\n",
    "train, test = train_test_split(sqft_livingDF, test_size = 0.2)\n",
    "\n",
    "X = train[['sqft_living']].values\n",
    "Y = train[['price']].values\n",
    "\n",
    "X_test = test[['sqft_living']].values\n",
    "Y_test = test[['price']].values"
   ]
  },
  {
   "cell_type": "markdown",
   "metadata": {},
   "source": [
    "Linear regression model is fit to the data"
   ]
  },
  {
   "cell_type": "code",
   "execution_count": 13,
   "metadata": {},
   "outputs": [
    {
     "data": {
      "text/plain": [
       "LinearRegression(copy_X=True, fit_intercept=True, n_jobs=1, normalize=False)"
      ]
     },
     "execution_count": 13,
     "metadata": {},
     "output_type": "execute_result"
    }
   ],
   "source": [
    "lr = LinearRegression()\n",
    "\n",
    "lr.fit(X,Y)\n",
    "\n",
    "prediction = lr.predict(X_test)"
   ]
  },
  {
   "cell_type": "code",
   "execution_count": 16,
   "metadata": {},
   "outputs": [
    {
     "data": {
      "image/png": "[encoded data removed]",
      "text/plain": [
       "<matplotlib.figure.Figure at 0xd261c88>"
      ]
     },
     "metadata": {},
     "output_type": "display_data"
    },
    {
     "name": "stdout",
     "output_type": "stream",
     "text": [
      "Mean Absolute Error: \n",
      "168716.9591645889\n",
      "r2_score: \n",
      "0.5166140061610587\n",
      "Coeffecient of Determination\n",
      "0.487075208538586\n"
     ]
    }
   ],
   "source": [
    "import matplotlib.pyplot as plt\n",
    "from sklearn.metrics import mean_absolute_error, r2_score\n",
    "\n",
    "x = df['sqft_living']\n",
    "y = df['price']\n",
    "plt.figure(figsize = (15,4))\n",
    "plt.scatter(x,y, s=1)\n",
    "plt.plot(X_test, prediction, color = \"r\")\n",
    "plt.xlabel = [\"time\"]\n",
    "plt.ylabel = [\"micro grams N02 per cubic metre \"]\n",
    "plt.show()\n",
    "\n",
    "mae = mean_absolute_error(Y_test, prediction)\n",
    "r2 = r2_score(Y_test, prediction)\n",
    "cod = lr.score(X,Y)\n",
    "\n",
    "print(\"Mean Absolute Error: \")\n",
    "print(mae)\n",
    "print(\"r2_score: \")\n",
    "print(r2)\n",
    "print(\"Coeffecient of Determination\")\n",
    "print(cod)"
   ]
  },
  {
   "cell_type": "markdown",
   "metadata": {},
   "source": [
    "Whilst a clear correlation in price and size of living space is apparent, the model is far from accurate, especially towards the extremes of house pricing. With a model employing a larger number of features it maybe possible to build more accurate models."
   ]
  },
  {
   "cell_type": "markdown",
   "metadata": {
    "collapsed": true
   },
   "source": [
    "In order to effectively incorporate multiple features into the analysis, feature values must be normalised so they have equal weighting in the building of models."
   ]
  },
  {
   "cell_type": "code",
   "execution_count": 17,
   "metadata": {
    "collapsed": true
   },
   "outputs": [],
   "source": [
    "from sklearn.preprocessing import MinMaxScaler\n",
    "from pandas import DataFrame\n",
    "\n",
    "scaler = MinMaxScaler(feature_range =(0,1))\n",
    "values = df.values\n",
    "scaled_val = scaler.fit_transform(values)#\n",
    "\n",
    "scaled_df = pd.DataFrame(scaled_val, columns = df.columns)\n",
    "scaled_df['price'] = df['price']"
   ]
  },
  {
   "cell_type": "code",
   "execution_count": 18,
   "metadata": {},
   "outputs": [
    {
     "name": "stdout",
     "output_type": "stream",
     "text": [
      "         id      date     price  bedrooms  bathrooms  sqft_living  sqft_lot  \\\n",
      "0  0.720103  0.999475  221900.0  0.090909    0.12500     0.067170  0.003108   \n",
      "1  0.647853  0.999486  538000.0  0.090909    0.28125     0.172075  0.004072   \n",
      "2  0.568795  0.999983  180000.0  0.060606    0.12500     0.036226  0.005743   \n",
      "3  0.251157  0.999486  604000.0  0.121212    0.37500     0.126038  0.002714   \n",
      "4  0.197333  0.999983  510000.0  0.090909    0.25000     0.104906  0.004579   \n",
      "\n",
      "   floors  waterfront  view     ...         grade  sqft_above  sqft_basement  \\\n",
      "0     0.0         0.0   0.0     ...      0.500000    0.097588       0.000000   \n",
      "1     0.4         0.0   0.0     ...      0.500000    0.206140       0.082988   \n",
      "2     0.0         0.0   0.0     ...      0.416667    0.052632       0.000000   \n",
      "3     0.0         0.0   0.0     ...      0.500000    0.083333       0.188797   \n",
      "4     0.0         0.0   0.0     ...      0.583333    0.152412       0.000000   \n",
      "\n",
      "   yr_built  yr_renovated   zipcode       lat      long  sqft_living15  \\\n",
      "0  0.478261      0.000000  0.893939  0.571498  0.217608       0.161934   \n",
      "1  0.443478      0.988089  0.626263  0.908959  0.166113       0.222165   \n",
      "2  0.286957      0.000000  0.136364  0.936143  0.237542       0.399415   \n",
      "3  0.565217      0.000000  0.681818  0.586939  0.104651       0.165376   \n",
      "4  0.756522      0.000000  0.368687  0.741354  0.393688       0.241094   \n",
      "\n",
      "   sqft_lot15  \n",
      "0    0.005742  \n",
      "1    0.008027  \n",
      "2    0.008513  \n",
      "3    0.004996  \n",
      "4    0.007871  \n",
      "\n",
      "[5 rows x 21 columns]\n"
     ]
    }
   ],
   "source": [
    "print(scaled_df.head())\n"
   ]
  },
  {
   "cell_type": "markdown",
   "metadata": {},
   "source": [
    "now that the dataframe values have been normalised, a number of features maybe selected to be inputted into the linear regression model.\n",
    "\n",
    "Features selects:\n",
    "- Bedrooms\n",
    "- Bathrooms\n",
    "- SQFT_Living\n",
    "- SQFT_lot"
   ]
  },
  {
   "cell_type": "code",
   "execution_count": 19,
   "metadata": {
    "collapsed": true
   },
   "outputs": [],
   "source": [
    "multiDF = scaled_df[[\"price\",\"bedrooms\", \"bathrooms\", \"sqft_living\", \"sqft_lot\"]]"
   ]
  },
  {
   "cell_type": "code",
   "execution_count": 20,
   "metadata": {},
   "outputs": [],
   "source": [
    "\n",
    "\n",
    "train,test = train_test_split(multiDF, test_size = 0.2)\n",
    "\n",
    "X = train[[\"bedrooms\", \"bathrooms\", \"sqft_living\", \"sqft_lot\"]].values\n",
    "Y = train[[\"price\"]].values\n",
    "\n",
    "X_test = test[[\"bedrooms\", \"bathrooms\", \"sqft_living\", \"sqft_lot\"]].values\n",
    "Y_test = test[[\"price\"]].values\n",
    "\n"
   ]
  },
  {
   "cell_type": "code",
   "execution_count": 21,
   "metadata": {},
   "outputs": [
    {
     "name": "stdout",
     "output_type": "stream",
     "text": [
      "[[-2083037.72343529    79120.97240168  4130051.19757091  -798204.52569953]]\n"
     ]
    }
   ],
   "source": [
    "mlr = LinearRegression()\n",
    "\n",
    "mlr.fit(X,Y)\n",
    "print(mlr.coef_)\n",
    "prediction = mlr.predict(X_test)\n"
   ]
  },
  {
   "cell_type": "code",
   "execution_count": 23,
   "metadata": {},
   "outputs": [
    {
     "name": "stdout",
     "output_type": "stream",
     "text": [
      "Mean Absolute Error: \n",
      "166423.4480405749\n",
      "r2_score: \n",
      "0.5117765438523927\n",
      "Coeffecient of Determination\n",
      "0.5074864756388\n"
     ]
    }
   ],
   "source": [
    "\n",
    "\n",
    "mae = mean_absolute_error(Y_test, prediction)\n",
    "r2 = r2_score(Y_test, prediction)\n",
    "cod = mlr.score(X,Y)\n",
    "\n",
    "print(\"Mean Absolute Error: \")\n",
    "print(mae)\n",
    "print(\"r2_score: \")\n",
    "print(r2)\n",
    "print(\"Coeffecient of Determination\")\n",
    "print(cod)"
   ]
  },
  {
   "cell_type": "code",
   "execution_count": 34,
   "metadata": {},
   "outputs": [
    {
     "data": {
      "image/png": "[encoded data removed]",
      "text/plain": [
       "<matplotlib.figure.Figure at 0x90f5860>"
      ]
     },
     "metadata": {},
     "output_type": "display_data"
    }
   ],
   "source": [
    "plt.figure(figsize = (10,4))\n",
    "plt.title('Actual results against predicted results')\n",
    "plt.scatter(Y_test, prediction)\n",
    "\n",
    "plt.show()\n"
   ]
  },
  {
   "cell_type": "markdown",
   "metadata": {},
   "source": [
    "Observing the graph displaying predicted vs actual pricing, it can be seen that the model has been able to somewhat accurately predict housing prices, especially in the lower priced houses. However as with the model employing living space as the sole feature the model fails to make accurate predictions for more expensive properties, with houses in general being massively undervalued by the model.\n",
    "\n",
    "Other interesting results show up in the form of negative predicted valuations. It seems that the models negative coeffecient for the number of bedrooms in the house has led to some strange results.\n",
    "\n",
    "Why the model gives a negative coeffecient to number of bedrooms and land size is unclear. It maybe that more prestigous properties often have a smaller number of bedrooms of greater size. \n",
    "\n",
    "The location of properties is also not taken into account in the building of the model, as zipcode alone gives little reference to the type of area that the property is in, however with the large difference in prices seen in the housing market due to location, it may be that this missing important factor has reduced the Linear regression model's ability to predict a properties value"
   ]
  }
 ],
 "metadata": {
  "kernelspec": {
   "display_name": "Python 3",
   "language": "python",
   "name": "python3"
  },
  "language_info": {
   "codemirror_mode": {
    "name": "ipython",
    "version": 3
   },
   "file_extension": ".py",
   "mimetype": "text/x-python",
   "name": "python",
   "nbconvert_exporter": "python",
   "pygments_lexer": "ipython3",
   "version": "3.6.3"
  }
 },
 "nbformat": 4,
 "nbformat_minor": 2
}
